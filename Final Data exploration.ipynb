{
 "cells": [
  {
   "cell_type": "code",
   "execution_count": 1,
   "id": "imported-industry",
   "metadata": {},
   "outputs": [],
   "source": [
    "import pandas as pd\n",
    "import numpy as np\n",
    "import matplotlib.pyplot as plt\n",
    "from sklearn.preprocessing import StandardScaler, LabelEncoder\n",
    "from sklearn.linear_model import LinearRegression, RidgeCV, LassoCV, ElasticNetCV\n",
    "from sklearn.model_selection import train_test_split, cross_val_score\n",
    "from sklearn.metrics import mean_absolute_error, mean_squared_error, mean_squared_log_error"
   ]
  },
  {
   "cell_type": "code",
   "execution_count": 2,
   "id": "mechanical-cleaner",
   "metadata": {},
   "outputs": [],
   "source": [
    "amesData = pd.read_csv('train.csv')\n",
    "kingData = pd.read_csv('kc_house_data.csv')"
   ]
  },
  {
   "cell_type": "code",
   "execution_count": 3,
   "id": "excited-disease",
   "metadata": {},
   "outputs": [
    {
     "data": {
      "text/plain": [
       "Index(['Id', 'MSSubClass', 'MSZoning', 'LotFrontage', 'LotArea', 'Street',\n",
       "       'Alley', 'LotShape', 'LandContour', 'Utilities', 'LotConfig',\n",
       "       'LandSlope', 'Neighborhood', 'Condition1', 'Condition2', 'BldgType',\n",
       "       'HouseStyle', 'OverallQual', 'OverallCond', 'YearBuilt', 'YearRemodAdd',\n",
       "       'RoofStyle', 'RoofMatl', 'Exterior1st', 'Exterior2nd', 'MasVnrType',\n",
       "       'MasVnrArea', 'ExterQual', 'ExterCond', 'Foundation', 'BsmtQual',\n",
       "       'BsmtCond', 'BsmtExposure', 'BsmtFinType1', 'BsmtFinSF1',\n",
       "       'BsmtFinType2', 'BsmtFinSF2', 'BsmtUnfSF', 'TotalBsmtSF', 'Heating',\n",
       "       'HeatingQC', 'CentralAir', 'Electrical', '1stFlrSF', '2ndFlrSF',\n",
       "       'LowQualFinSF', 'GrLivArea', 'BsmtFullBath', 'BsmtHalfBath', 'FullBath',\n",
       "       'HalfBath', 'BedroomAbvGr', 'KitchenAbvGr', 'KitchenQual',\n",
       "       'TotRmsAbvGrd', 'Functional', 'Fireplaces', 'FireplaceQu', 'GarageType',\n",
       "       'GarageYrBlt', 'GarageFinish', 'GarageCars', 'GarageArea', 'GarageQual',\n",
       "       'GarageCond', 'PavedDrive', 'WoodDeckSF', 'OpenPorchSF',\n",
       "       'EnclosedPorch', '3SsnPorch', 'ScreenPorch', 'PoolArea', 'PoolQC',\n",
       "       'Fence', 'MiscFeature', 'MiscVal', 'MoSold', 'YrSold', 'SaleType',\n",
       "       'SaleCondition', 'SalePrice'],\n",
       "      dtype='object')"
      ]
     },
     "execution_count": 3,
     "metadata": {},
     "output_type": "execute_result"
    }
   ],
   "source": [
    "amesData.columns"
   ]
  },
  {
   "cell_type": "code",
   "execution_count": 4,
   "id": "short-safety",
   "metadata": {},
   "outputs": [],
   "source": [
    "amesFeatures = ['LotArea', 'YearBuilt', 'YearRemodAdd', 'YrSold', 'TotalBsmtSF', \n",
    "                'GrLivArea', 'TotRmsAbvGrd', 'BsmtFullBath', 'BsmtHalfBath', 'FullBath',\n",
    "                'HalfBath', 'SalePrice']"
   ]
  },
  {
   "cell_type": "code",
   "execution_count": 5,
   "id": "infrared-backing",
   "metadata": {},
   "outputs": [],
   "source": [
    "# make a column that is Year sold - Year build/remodeled ==> gives relative age of building"
   ]
  },
  {
   "cell_type": "code",
   "execution_count": 6,
   "id": "worldwide-survival",
   "metadata": {},
   "outputs": [],
   "source": [
    "amesFiltered = amesData.loc[:, amesFeatures]"
   ]
  },
  {
   "cell_type": "code",
   "execution_count": 7,
   "id": "complicated-grenada",
   "metadata": {},
   "outputs": [],
   "source": [
    "# apply log transform on saleprice to normalize the data\n",
    "amesFiltered['SalePrice'] = np.log1p(amesFiltered['SalePrice'])"
   ]
  },
  {
   "cell_type": "code",
   "execution_count": 8,
   "id": "sticky-webster",
   "metadata": {},
   "outputs": [],
   "source": [
    "amesFiltered['sqft_lot'] = amesFiltered['LotArea']"
   ]
  },
  {
   "cell_type": "code",
   "execution_count": 9,
   "id": "regular-occupation",
   "metadata": {},
   "outputs": [],
   "source": [
    "# Calculate price per LotArea AND price per TotalSF of the each property (GrLivArea + TotalBsmtSF)\n",
    "amesFiltered['DollarPerArea'] =  amesFiltered['SalePrice'] / amesFiltered['sqft_lot']"
   ]
  },
  {
   "cell_type": "code",
   "execution_count": 10,
   "id": "duplicate-croatia",
   "metadata": {},
   "outputs": [],
   "source": [
    "amesFiltered['sqft_living'] = (amesFiltered['GrLivArea'] + amesFiltered['TotalBsmtSF']) "
   ]
  },
  {
   "cell_type": "code",
   "execution_count": 11,
   "id": "graduate-amendment",
   "metadata": {},
   "outputs": [],
   "source": [
    "amesFiltered['DollarPerSF'] = amesFiltered['SalePrice'] / amesFiltered['sqft_living']"
   ]
  },
  {
   "cell_type": "code",
   "execution_count": 12,
   "id": "early-perspective",
   "metadata": {},
   "outputs": [],
   "source": [
    "amesFiltered['bedrooms'] = amesFiltered['TotRmsAbvGrd']"
   ]
  },
  {
   "cell_type": "code",
   "execution_count": 13,
   "id": "hydraulic-conference",
   "metadata": {},
   "outputs": [],
   "source": [
    "amesFiltered['bathrooms'] = amesFiltered['BsmtFullBath'] + amesFiltered['FullBath'] + (amesFiltered['BsmtHalfBath'] + amesFiltered['HalfBath']) / 2"
   ]
  },
  {
   "cell_type": "code",
   "execution_count": 14,
   "id": "hearing-semester",
   "metadata": {},
   "outputs": [],
   "source": [
    "amesFiltered['LastConstruction'] = abs(amesFiltered['YrSold'] - amesFiltered['YearRemodAdd'])"
   ]
  },
  {
   "cell_type": "code",
   "execution_count": 15,
   "id": "contained-relations",
   "metadata": {},
   "outputs": [],
   "source": [
    "amesFiltered['BuildingAge'] = abs(amesFiltered['YrSold'] - amesFiltered['YearBuilt'])"
   ]
  },
  {
   "cell_type": "code",
   "execution_count": 16,
   "id": "placed-silver",
   "metadata": {},
   "outputs": [],
   "source": [
    "# find the median of amesFiltered['DollarPerArea'] and amesFiltered['DollarPerSF']\n",
    "# add this data as columns for the data frame\n",
    "amesFiltered['MedianDollarPerArea'] = amesFiltered['DollarPerArea'] .median() \n",
    "amesFiltered['MedianDollarPerSF'] = amesFiltered['DollarPerSF'] .median() "
   ]
  },
  {
   "cell_type": "code",
   "execution_count": 17,
   "id": "excessive-austin",
   "metadata": {},
   "outputs": [
    {
     "data": {
      "text/plain": [
       "LotArea                2.573201e-01\n",
       "YearBuilt              5.865702e-01\n",
       "YearRemodAdd           5.656078e-01\n",
       "YrSold                -3.726291e-02\n",
       "TotalBsmtSF            6.121342e-01\n",
       "GrLivArea              7.009270e-01\n",
       "TotRmsAbvGrd           5.344224e-01\n",
       "BsmtFullBath           2.362242e-01\n",
       "BsmtHalfBath          -5.149242e-03\n",
       "FullBath               5.947707e-01\n",
       "HalfBath               3.139822e-01\n",
       "SalePrice              1.000000e+00\n",
       "sqft_lot               2.573201e-01\n",
       "DollarPerArea         -2.845571e-01\n",
       "sqft_living            7.732772e-01\n",
       "DollarPerSF           -6.897441e-01\n",
       "bedrooms               5.344224e-01\n",
       "bathrooms              6.730107e-01\n",
       "LastConstruction      -5.681606e-01\n",
       "BuildingAge           -5.872900e-01\n",
       "MedianDollarPerArea   -8.498411e-14\n",
       "MedianDollarPerSF      8.497074e-14\n",
       "Name: SalePrice, dtype: float64"
      ]
     },
     "execution_count": 17,
     "metadata": {},
     "output_type": "execute_result"
    }
   ],
   "source": [
    "amesFiltered.corr()['SalePrice']"
   ]
  },
  {
   "cell_type": "code",
   "execution_count": 18,
   "id": "fifth-gasoline",
   "metadata": {},
   "outputs": [],
   "source": [
    "amesFeaturesFinal = ['MedianDollarPerArea', 'MedianDollarPerSF', 'sqft_lot', 'sqft_living', 'bedrooms', 'bathrooms', 'BuildingAge']"
   ]
  },
  {
   "cell_type": "code",
   "execution_count": 19,
   "id": "desirable-perth",
   "metadata": {},
   "outputs": [
    {
     "data": {
      "text/html": [
       "<div>\n",
       "<style scoped>\n",
       "    .dataframe tbody tr th:only-of-type {\n",
       "        vertical-align: middle;\n",
       "    }\n",
       "\n",
       "    .dataframe tbody tr th {\n",
       "        vertical-align: top;\n",
       "    }\n",
       "\n",
       "    .dataframe thead th {\n",
       "        text-align: right;\n",
       "    }\n",
       "</style>\n",
       "<table border=\"1\" class=\"dataframe\">\n",
       "  <thead>\n",
       "    <tr style=\"text-align: right;\">\n",
       "      <th></th>\n",
       "      <th>MedianDollarPerArea</th>\n",
       "      <th>MedianDollarPerSF</th>\n",
       "      <th>sqft_lot</th>\n",
       "      <th>sqft_living</th>\n",
       "      <th>bedrooms</th>\n",
       "      <th>bathrooms</th>\n",
       "      <th>BuildingAge</th>\n",
       "    </tr>\n",
       "  </thead>\n",
       "  <tbody>\n",
       "    <tr>\n",
       "      <th>0</th>\n",
       "      <td>0.001268</td>\n",
       "      <td>0.004845</td>\n",
       "      <td>8450</td>\n",
       "      <td>2566</td>\n",
       "      <td>8</td>\n",
       "      <td>3.5</td>\n",
       "      <td>5</td>\n",
       "    </tr>\n",
       "    <tr>\n",
       "      <th>1</th>\n",
       "      <td>0.001268</td>\n",
       "      <td>0.004845</td>\n",
       "      <td>9600</td>\n",
       "      <td>2524</td>\n",
       "      <td>6</td>\n",
       "      <td>2.5</td>\n",
       "      <td>31</td>\n",
       "    </tr>\n",
       "    <tr>\n",
       "      <th>2</th>\n",
       "      <td>0.001268</td>\n",
       "      <td>0.004845</td>\n",
       "      <td>11250</td>\n",
       "      <td>2706</td>\n",
       "      <td>6</td>\n",
       "      <td>3.5</td>\n",
       "      <td>7</td>\n",
       "    </tr>\n",
       "    <tr>\n",
       "      <th>3</th>\n",
       "      <td>0.001268</td>\n",
       "      <td>0.004845</td>\n",
       "      <td>9550</td>\n",
       "      <td>2473</td>\n",
       "      <td>7</td>\n",
       "      <td>2.0</td>\n",
       "      <td>91</td>\n",
       "    </tr>\n",
       "    <tr>\n",
       "      <th>4</th>\n",
       "      <td>0.001268</td>\n",
       "      <td>0.004845</td>\n",
       "      <td>14260</td>\n",
       "      <td>3343</td>\n",
       "      <td>9</td>\n",
       "      <td>3.5</td>\n",
       "      <td>8</td>\n",
       "    </tr>\n",
       "    <tr>\n",
       "      <th>...</th>\n",
       "      <td>...</td>\n",
       "      <td>...</td>\n",
       "      <td>...</td>\n",
       "      <td>...</td>\n",
       "      <td>...</td>\n",
       "      <td>...</td>\n",
       "      <td>...</td>\n",
       "    </tr>\n",
       "    <tr>\n",
       "      <th>1455</th>\n",
       "      <td>0.001268</td>\n",
       "      <td>0.004845</td>\n",
       "      <td>7917</td>\n",
       "      <td>2600</td>\n",
       "      <td>7</td>\n",
       "      <td>2.5</td>\n",
       "      <td>8</td>\n",
       "    </tr>\n",
       "    <tr>\n",
       "      <th>1456</th>\n",
       "      <td>0.001268</td>\n",
       "      <td>0.004845</td>\n",
       "      <td>13175</td>\n",
       "      <td>3615</td>\n",
       "      <td>7</td>\n",
       "      <td>3.0</td>\n",
       "      <td>32</td>\n",
       "    </tr>\n",
       "    <tr>\n",
       "      <th>1457</th>\n",
       "      <td>0.001268</td>\n",
       "      <td>0.004845</td>\n",
       "      <td>9042</td>\n",
       "      <td>3492</td>\n",
       "      <td>9</td>\n",
       "      <td>2.0</td>\n",
       "      <td>69</td>\n",
       "    </tr>\n",
       "    <tr>\n",
       "      <th>1458</th>\n",
       "      <td>0.001268</td>\n",
       "      <td>0.004845</td>\n",
       "      <td>9717</td>\n",
       "      <td>2156</td>\n",
       "      <td>5</td>\n",
       "      <td>2.0</td>\n",
       "      <td>60</td>\n",
       "    </tr>\n",
       "    <tr>\n",
       "      <th>1459</th>\n",
       "      <td>0.001268</td>\n",
       "      <td>0.004845</td>\n",
       "      <td>9937</td>\n",
       "      <td>2512</td>\n",
       "      <td>6</td>\n",
       "      <td>2.5</td>\n",
       "      <td>43</td>\n",
       "    </tr>\n",
       "  </tbody>\n",
       "</table>\n",
       "<p>1460 rows × 7 columns</p>\n",
       "</div>"
      ],
      "text/plain": [
       "      MedianDollarPerArea  MedianDollarPerSF  sqft_lot  sqft_living  bedrooms  \\\n",
       "0                0.001268           0.004845      8450         2566         8   \n",
       "1                0.001268           0.004845      9600         2524         6   \n",
       "2                0.001268           0.004845     11250         2706         6   \n",
       "3                0.001268           0.004845      9550         2473         7   \n",
       "4                0.001268           0.004845     14260         3343         9   \n",
       "...                   ...                ...       ...          ...       ...   \n",
       "1455             0.001268           0.004845      7917         2600         7   \n",
       "1456             0.001268           0.004845     13175         3615         7   \n",
       "1457             0.001268           0.004845      9042         3492         9   \n",
       "1458             0.001268           0.004845      9717         2156         5   \n",
       "1459             0.001268           0.004845      9937         2512         6   \n",
       "\n",
       "      bathrooms  BuildingAge  \n",
       "0           3.5            5  \n",
       "1           2.5           31  \n",
       "2           3.5            7  \n",
       "3           2.0           91  \n",
       "4           3.5            8  \n",
       "...         ...          ...  \n",
       "1455        2.5            8  \n",
       "1456        3.0           32  \n",
       "1457        2.0           69  \n",
       "1458        2.0           60  \n",
       "1459        2.5           43  \n",
       "\n",
       "[1460 rows x 7 columns]"
      ]
     },
     "execution_count": 19,
     "metadata": {},
     "output_type": "execute_result"
    }
   ],
   "source": [
    "amesFeaturesData = amesFiltered.loc[:, amesFeaturesFinal]\n",
    "amesFeaturesData"
   ]
  },
  {
   "cell_type": "code",
   "execution_count": null,
   "id": "above-rugby",
   "metadata": {},
   "outputs": [],
   "source": []
  },
  {
   "cell_type": "code",
   "execution_count": null,
   "id": "about-colombia",
   "metadata": {},
   "outputs": [],
   "source": []
  },
  {
   "cell_type": "code",
   "execution_count": null,
   "id": "postal-hotel",
   "metadata": {},
   "outputs": [],
   "source": []
  },
  {
   "cell_type": "code",
   "execution_count": null,
   "id": "civilian-michigan",
   "metadata": {},
   "outputs": [],
   "source": []
  },
  {
   "cell_type": "code",
   "execution_count": null,
   "id": "enhanced-collaboration",
   "metadata": {},
   "outputs": [],
   "source": []
  },
  {
   "cell_type": "code",
   "execution_count": 20,
   "id": "tracked-paint",
   "metadata": {},
   "outputs": [
    {
     "data": {
      "text/plain": [
       "Index(['id', 'date', 'price', 'bedrooms', 'bathrooms', 'sqft_living',\n",
       "       'sqft_lot', 'floors', 'waterfront', 'view', 'condition', 'grade',\n",
       "       'sqft_above', 'sqft_basement', 'yr_built', 'yr_renovated', 'zipcode',\n",
       "       'lat', 'long', 'sqft_living15', 'sqft_lot15'],\n",
       "      dtype='object')"
      ]
     },
     "execution_count": 20,
     "metadata": {},
     "output_type": "execute_result"
    }
   ],
   "source": [
    "kingData.columns"
   ]
  },
  {
   "cell_type": "code",
   "execution_count": 21,
   "id": "humanitarian-british",
   "metadata": {},
   "outputs": [],
   "source": [
    "kingFeatures = ['date', 'price', 'bedrooms', 'bathrooms', 'sqft_living', 'sqft_lot', 'yr_built', 'yr_renovated']"
   ]
  },
  {
   "cell_type": "code",
   "execution_count": 22,
   "id": "selected-development",
   "metadata": {},
   "outputs": [
    {
     "data": {
      "text/html": [
       "<div>\n",
       "<style scoped>\n",
       "    .dataframe tbody tr th:only-of-type {\n",
       "        vertical-align: middle;\n",
       "    }\n",
       "\n",
       "    .dataframe tbody tr th {\n",
       "        vertical-align: top;\n",
       "    }\n",
       "\n",
       "    .dataframe thead th {\n",
       "        text-align: right;\n",
       "    }\n",
       "</style>\n",
       "<table border=\"1\" class=\"dataframe\">\n",
       "  <thead>\n",
       "    <tr style=\"text-align: right;\">\n",
       "      <th></th>\n",
       "      <th>date</th>\n",
       "      <th>price</th>\n",
       "      <th>bedrooms</th>\n",
       "      <th>bathrooms</th>\n",
       "      <th>sqft_living</th>\n",
       "      <th>sqft_lot</th>\n",
       "      <th>yr_built</th>\n",
       "      <th>yr_renovated</th>\n",
       "    </tr>\n",
       "  </thead>\n",
       "  <tbody>\n",
       "    <tr>\n",
       "      <th>0</th>\n",
       "      <td>20141013T000000</td>\n",
       "      <td>221900.0</td>\n",
       "      <td>3</td>\n",
       "      <td>1.00</td>\n",
       "      <td>1180</td>\n",
       "      <td>5650</td>\n",
       "      <td>1955</td>\n",
       "      <td>0</td>\n",
       "    </tr>\n",
       "    <tr>\n",
       "      <th>1</th>\n",
       "      <td>20141209T000000</td>\n",
       "      <td>538000.0</td>\n",
       "      <td>3</td>\n",
       "      <td>2.25</td>\n",
       "      <td>2570</td>\n",
       "      <td>7242</td>\n",
       "      <td>1951</td>\n",
       "      <td>1991</td>\n",
       "    </tr>\n",
       "    <tr>\n",
       "      <th>2</th>\n",
       "      <td>20150225T000000</td>\n",
       "      <td>180000.0</td>\n",
       "      <td>2</td>\n",
       "      <td>1.00</td>\n",
       "      <td>770</td>\n",
       "      <td>10000</td>\n",
       "      <td>1933</td>\n",
       "      <td>0</td>\n",
       "    </tr>\n",
       "    <tr>\n",
       "      <th>3</th>\n",
       "      <td>20141209T000000</td>\n",
       "      <td>604000.0</td>\n",
       "      <td>4</td>\n",
       "      <td>3.00</td>\n",
       "      <td>1960</td>\n",
       "      <td>5000</td>\n",
       "      <td>1965</td>\n",
       "      <td>0</td>\n",
       "    </tr>\n",
       "    <tr>\n",
       "      <th>4</th>\n",
       "      <td>20150218T000000</td>\n",
       "      <td>510000.0</td>\n",
       "      <td>3</td>\n",
       "      <td>2.00</td>\n",
       "      <td>1680</td>\n",
       "      <td>8080</td>\n",
       "      <td>1987</td>\n",
       "      <td>0</td>\n",
       "    </tr>\n",
       "    <tr>\n",
       "      <th>...</th>\n",
       "      <td>...</td>\n",
       "      <td>...</td>\n",
       "      <td>...</td>\n",
       "      <td>...</td>\n",
       "      <td>...</td>\n",
       "      <td>...</td>\n",
       "      <td>...</td>\n",
       "      <td>...</td>\n",
       "    </tr>\n",
       "    <tr>\n",
       "      <th>21608</th>\n",
       "      <td>20140521T000000</td>\n",
       "      <td>360000.0</td>\n",
       "      <td>3</td>\n",
       "      <td>2.50</td>\n",
       "      <td>1530</td>\n",
       "      <td>1131</td>\n",
       "      <td>2009</td>\n",
       "      <td>0</td>\n",
       "    </tr>\n",
       "    <tr>\n",
       "      <th>21609</th>\n",
       "      <td>20150223T000000</td>\n",
       "      <td>400000.0</td>\n",
       "      <td>4</td>\n",
       "      <td>2.50</td>\n",
       "      <td>2310</td>\n",
       "      <td>5813</td>\n",
       "      <td>2014</td>\n",
       "      <td>0</td>\n",
       "    </tr>\n",
       "    <tr>\n",
       "      <th>21610</th>\n",
       "      <td>20140623T000000</td>\n",
       "      <td>402101.0</td>\n",
       "      <td>2</td>\n",
       "      <td>0.75</td>\n",
       "      <td>1020</td>\n",
       "      <td>1350</td>\n",
       "      <td>2009</td>\n",
       "      <td>0</td>\n",
       "    </tr>\n",
       "    <tr>\n",
       "      <th>21611</th>\n",
       "      <td>20150116T000000</td>\n",
       "      <td>400000.0</td>\n",
       "      <td>3</td>\n",
       "      <td>2.50</td>\n",
       "      <td>1600</td>\n",
       "      <td>2388</td>\n",
       "      <td>2004</td>\n",
       "      <td>0</td>\n",
       "    </tr>\n",
       "    <tr>\n",
       "      <th>21612</th>\n",
       "      <td>20141015T000000</td>\n",
       "      <td>325000.0</td>\n",
       "      <td>2</td>\n",
       "      <td>0.75</td>\n",
       "      <td>1020</td>\n",
       "      <td>1076</td>\n",
       "      <td>2008</td>\n",
       "      <td>0</td>\n",
       "    </tr>\n",
       "  </tbody>\n",
       "</table>\n",
       "<p>21613 rows × 8 columns</p>\n",
       "</div>"
      ],
      "text/plain": [
       "                  date     price  bedrooms  bathrooms  sqft_living  sqft_lot  \\\n",
       "0      20141013T000000  221900.0         3       1.00         1180      5650   \n",
       "1      20141209T000000  538000.0         3       2.25         2570      7242   \n",
       "2      20150225T000000  180000.0         2       1.00          770     10000   \n",
       "3      20141209T000000  604000.0         4       3.00         1960      5000   \n",
       "4      20150218T000000  510000.0         3       2.00         1680      8080   \n",
       "...                ...       ...       ...        ...          ...       ...   \n",
       "21608  20140521T000000  360000.0         3       2.50         1530      1131   \n",
       "21609  20150223T000000  400000.0         4       2.50         2310      5813   \n",
       "21610  20140623T000000  402101.0         2       0.75         1020      1350   \n",
       "21611  20150116T000000  400000.0         3       2.50         1600      2388   \n",
       "21612  20141015T000000  325000.0         2       0.75         1020      1076   \n",
       "\n",
       "       yr_built  yr_renovated  \n",
       "0          1955             0  \n",
       "1          1951          1991  \n",
       "2          1933             0  \n",
       "3          1965             0  \n",
       "4          1987             0  \n",
       "...         ...           ...  \n",
       "21608      2009             0  \n",
       "21609      2014             0  \n",
       "21610      2009             0  \n",
       "21611      2004             0  \n",
       "21612      2008             0  \n",
       "\n",
       "[21613 rows x 8 columns]"
      ]
     },
     "execution_count": 22,
     "metadata": {},
     "output_type": "execute_result"
    }
   ],
   "source": [
    "kingFiltered = kingData.loc[:, kingFeatures]\n",
    "kingFiltered"
   ]
  },
  {
   "cell_type": "code",
   "execution_count": 23,
   "id": "opening-bankruptcy",
   "metadata": {},
   "outputs": [],
   "source": [
    "# apply log transform on saleprice to normalize the data\n",
    "kingFiltered['price'] = np.log1p(kingFiltered['price'])"
   ]
  },
  {
   "cell_type": "code",
   "execution_count": 24,
   "id": "considerable-headquarters",
   "metadata": {},
   "outputs": [],
   "source": [
    "kingFeaturesFinal = ['MedianDollarPerArea', 'MedianDollarPerSF', 'sqft_lot', 'sqft_living', 'bedrooms', 'bathrooms', 'BuildingAge']"
   ]
  },
  {
   "cell_type": "code",
   "execution_count": 25,
   "id": "lucky-training",
   "metadata": {},
   "outputs": [],
   "source": [
    "kingFiltered['DollarPerArea'] = kingFiltered['sqft_lot'] / kingFiltered['price']\n",
    "kingFiltered['DollarPerSF'] = kingFiltered['sqft_living'] / kingFiltered['price']"
   ]
  },
  {
   "cell_type": "code",
   "execution_count": 26,
   "id": "imperial-candidate",
   "metadata": {},
   "outputs": [],
   "source": [
    "kingFiltered['YrSold'] = kingFiltered['date'].apply(lambda d: int(d[0:4]))\n",
    "kingFiltered['LastConstruction'] = abs(kingFiltered['YrSold'] - kingFiltered['yr_renovated'])\n",
    "kingFiltered['BuildingAge'] = abs(kingFiltered['YrSold'] - kingFiltered['yr_built'])"
   ]
  },
  {
   "cell_type": "code",
   "execution_count": 27,
   "id": "casual-pastor",
   "metadata": {},
   "outputs": [],
   "source": [
    "kingFiltered['MedianDollarPerArea'] = kingFiltered['DollarPerArea'].median()\n",
    "kingFiltered['MedianDollarPerSF'] = kingFiltered['DollarPerArea'].median()"
   ]
  },
  {
   "cell_type": "code",
   "execution_count": 28,
   "id": "faced-mortality",
   "metadata": {},
   "outputs": [
    {
     "data": {
      "text/plain": [
       "((1168, 7), (292, 7), (1168,), (292,))"
      ]
     },
     "execution_count": 28,
     "metadata": {},
     "output_type": "execute_result"
    }
   ],
   "source": [
    "X_train, X_test, y_train, y_test = train_test_split(amesFeaturesData, amesFiltered['SalePrice'], test_size = 0.2, random_state = 0)\n",
    "(X_train.shape, X_test.shape, y_train.shape, y_test.shape)"
   ]
  },
  {
   "cell_type": "code",
   "execution_count": 29,
   "id": "meaningful-finland",
   "metadata": {},
   "outputs": [
    {
     "data": {
      "text/plain": [
       "array([-0.1837911 , -0.21468791, -0.18583975, -0.18747728, -0.26109104])"
      ]
     },
     "execution_count": 29,
     "metadata": {},
     "output_type": "execute_result"
    }
   ],
   "source": [
    "lr = LinearRegression()\n",
    "lr.fit(X_train, y_train)\n",
    "scores = cross_val_score(lr, amesFeaturesData, amesFiltered['SalePrice'], cv=5, scoring='neg_root_mean_squared_error')\n",
    "scores"
   ]
  },
  {
   "cell_type": "code",
   "execution_count": 30,
   "id": "handmade-jerusalem",
   "metadata": {},
   "outputs": [],
   "source": [
    "kingFeaturesData = kingFiltered.loc[:, kingFeaturesFinal]"
   ]
  },
  {
   "cell_type": "code",
   "execution_count": 31,
   "id": "fifteen-atlas",
   "metadata": {
    "scrolled": true
   },
   "outputs": [
    {
     "data": {
      "text/plain": [
       "array([-0.36600477, -0.36551357, -0.35905838, -0.36872867, -0.35719581])"
      ]
     },
     "execution_count": 31,
     "metadata": {},
     "output_type": "execute_result"
    }
   ],
   "source": [
    "scores2 = cross_val_score(lr, kingFeaturesData, kingFiltered['price'], cv=5, scoring='neg_root_mean_squared_error')\n",
    "scores2"
   ]
  },
  {
   "cell_type": "code",
   "execution_count": 32,
   "id": "rough-cheat",
   "metadata": {},
   "outputs": [
    {
     "name": "stdout",
     "output_type": "stream",
     "text": [
      "Ames score:  0.06979184385064718\n",
      "King County score:  1.693944076206347\n"
     ]
    }
   ],
   "source": [
    "print(\"Ames score: \", mean_squared_error(y_test, lr.predict(X_test))) # this isn't bad at all --> let's test on other data\n",
    "print(\"King County score: \", mean_squared_error(kingFiltered['price'], lr.predict(kingFeaturesData))) "
   ]
  },
  {
   "cell_type": "code",
   "execution_count": 33,
   "id": "rotary-postcard",
   "metadata": {},
   "outputs": [
    {
     "name": "stdout",
     "output_type": "stream",
     "text": [
      "Ames score:  0.07885064569857336\n",
      "King County score:  1.6530176554303646\n"
     ]
    }
   ],
   "source": [
    "lasso = LassoCV(cv=5, random_state=0)\n",
    "lasso.fit(X_train, y_train)\n",
    "print(\"Ames score: \", mean_squared_error(y_test, lasso.predict(X_test))) # this isn't bad at all --> let's test on other data\n",
    "print(\"King County score: \", mean_squared_error(kingFiltered['price'], lasso.predict(kingFeaturesData))) "
   ]
  },
  {
   "cell_type": "code",
   "execution_count": 34,
   "id": "known-trailer",
   "metadata": {},
   "outputs": [
    {
     "name": "stdout",
     "output_type": "stream",
     "text": [
      "Ames score:  0.07886716438462743\n",
      "King County score:  1.652981676083218\n"
     ]
    }
   ],
   "source": [
    "elastic = ElasticNetCV(cv=5, random_state=0)\n",
    "elastic.fit(X_train, y_train)\n",
    "print(\"Ames score: \", mean_squared_error(y_test, elastic.predict(X_test))) \n",
    "print(\"King County score: \", mean_squared_error(kingFiltered['price'], elastic.predict(kingFeaturesData))) "
   ]
  },
  {
   "cell_type": "code",
   "execution_count": null,
   "id": "impossible-blend",
   "metadata": {},
   "outputs": [],
   "source": []
  }
 ],
 "metadata": {
  "kernelspec": {
   "display_name": "Python 3",
   "language": "python",
   "name": "python3"
  },
  "language_info": {
   "codemirror_mode": {
    "name": "ipython",
    "version": 3
   },
   "file_extension": ".py",
   "mimetype": "text/x-python",
   "name": "python",
   "nbconvert_exporter": "python",
   "pygments_lexer": "ipython3",
   "version": "3.6.5"
  }
 },
 "nbformat": 4,
 "nbformat_minor": 5
}
